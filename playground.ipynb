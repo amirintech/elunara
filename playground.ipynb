{
 "cells": [
  {
   "cell_type": "code",
   "execution_count": 1,
   "metadata": {},
   "outputs": [],
   "source": [
    "from sklearn.model_selection import train_test_split\n",
    "from sklearn.datasets import fetch_california_housing\n",
    "\n",
    "size = 300\n",
    "data = fetch_california_housing()\n",
    "X, y = data.data[:size], data.target[:size]\n",
    "\n",
    "X_train, X_test, y_train, y_test = train_test_split(\n",
    "    X, y, test_size=0.2, random_state=42)"
   ]
  },
  {
   "cell_type": "code",
   "execution_count": null,
   "metadata": {},
   "outputs": [],
   "source": [
    "X_train.shape, y_train.shape"
   ]
  },
  {
   "cell_type": "code",
   "execution_count": null,
   "metadata": {},
   "outputs": [],
   "source": [
    "from nn import MLP\n",
    "\n",
    "mlp = MLP(X_train.shape[1], [32, 32, 16, 1])\n",
    "\n",
    "epochs = 10\n",
    "learning_rate = 3e-2\n",
    "for e in range(epochs):\n",
    "    # forward pass\n",
    "    y_pred = [mlp(x) for x in X_train]\n",
    "    loss = sum((yp - yt) ** 2 for yp, yt in zip(y_pred, y_train))\n",
    "    print(f'epoch: {e}\\tloss: {loss.data}')\n",
    "    \n",
    "    # zero-grad\n",
    "    for p in mlp.parameters():\n",
    "        p.grad = 0\n",
    "\n",
    "    # backward pass\n",
    "    loss.backward()\n",
    "    \n",
    "    # update weights & biases\n",
    "    for p in mlp.parameters():\n",
    "        p.data = p.data - learning_rate * p.grad"
   ]
  },
  {
   "cell_type": "code",
   "execution_count": null,
   "metadata": {},
   "outputs": [],
   "source": []
  }
 ],
 "metadata": {
  "kernelspec": {
   "display_name": "venv",
   "language": "python",
   "name": "python3"
  },
  "language_info": {
   "codemirror_mode": {
    "name": "ipython",
    "version": 3
   },
   "file_extension": ".py",
   "mimetype": "text/x-python",
   "name": "python",
   "nbconvert_exporter": "python",
   "pygments_lexer": "ipython3",
   "version": "3.12.4"
  }
 },
 "nbformat": 4,
 "nbformat_minor": 2
}
